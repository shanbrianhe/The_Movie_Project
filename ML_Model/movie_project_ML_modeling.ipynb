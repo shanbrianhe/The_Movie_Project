{
 "cells": [
  {
   "cell_type": "code",
   "execution_count": 1,
   "metadata": {
    "collapsed": false
   },
   "outputs": [
    {
     "name": "stderr",
     "output_type": "stream",
     "text": [
      "/Users/nathanielschub/anaconda/lib/python2.7/site-packages/sklearn/cross_validation.py:41: DeprecationWarning: This module was deprecated in version 0.18 in favor of the model_selection module into which all the refactored classes and functions are moved. Also note that the interface of the new CV iterators are different from that of this module. This module will be removed in 0.20.\n",
      "  \"This module will be removed in 0.20.\", DeprecationWarning)\n",
      "/Users/nathanielschub/anaconda/lib/python2.7/site-packages/sklearn/grid_search.py:42: DeprecationWarning: This module was deprecated in version 0.18 in favor of the model_selection module into which all the refactored classes and functions are moved. This module will be removed in 0.20.\n",
      "  DeprecationWarning)\n"
     ]
    }
   ],
   "source": [
    "#pulling in packages...\n",
    "\n",
    "\n",
    "import pandas as pd\n",
    "import numpy as np\n",
    "import re\n",
    "from sklearn.feature_extraction.text import *\n",
    "from scipy import sparse\n",
    "\n",
    "from sklearn.neighbors import KNeighborsClassifier\n",
    "from sklearn.linear_model import LogisticRegression\n",
    "from sklearn.naive_bayes import BernoulliNB\n",
    "from sklearn.naive_bayes import MultinomialNB\n",
    "from sklearn.grid_search import GridSearchCV\n",
    "from sklearn import metrics\n",
    "\n",
    "import matplotlib.pyplot as plt"
   ]
  },
  {
   "cell_type": "raw",
   "metadata": {
    "collapsed": false
   },
   "source": []
  },
  {
   "cell_type": "code",
   "execution_count": 2,
   "metadata": {
    "collapsed": false
   },
   "outputs": [
    {
     "name": "stderr",
     "output_type": "stream",
     "text": [
      "/Users/nathanielschub/anaconda/lib/python2.7/site-packages/IPython/core/interactiveshell.py:2717: DtypeWarning: Columns (9) have mixed types. Specify dtype option on import or set low_memory=False.\n",
      "  interactivity=interactivity, compiler=compiler, result=result)\n"
     ]
    },
    {
     "name": "stdout",
     "output_type": "stream",
     "text": [
      "(5941, 21)\n",
      "   adult  Franchise    budget      genre     id    imdb_id original_language  \\\n",
      "1  FALSE          0  65000000  Adventure   8844  tt0113497                en   \n",
      "3  FALSE          0  16000000     Comedy  31357  tt0114885                en   \n",
      "4  FALSE          1         0     Comedy  11862  tt0113041                en   \n",
      "5  FALSE          0  60000000     Action    949  tt0113277                en   \n",
      "8  FALSE          0  35000000     Action   9091  tt0114576                en   \n",
      "\n",
      "                original_title  \\\n",
      "1                      Jumanji   \n",
      "3            Waiting to Exhale   \n",
      "4  Father of the Bride Part II   \n",
      "5                         Heat   \n",
      "8                 Sudden Death   \n",
      "\n",
      "                                            overview popularity   ...     \\\n",
      "1  When siblings Judy and Peter discover an encha...    17.0155   ...      \n",
      "3  Cheated on, mistreated and stepped on, the wom...    3.85949   ...      \n",
      "4  Just when George Banks has recovered from his ...    8.38752   ...      \n",
      "5  Obsessive master thief, Neil McCauley leads a ...    17.9249   ...      \n",
      "8  International action superstar Jean Claude Van...    5.23158   ...      \n",
      "\n",
      "       revenue  runtime    status  \\\n",
      "1  262797249.0    104.0  Released   \n",
      "3   81452156.0    127.0  Released   \n",
      "4   76578911.0    106.0  Released   \n",
      "5  187436818.0    170.0  Released   \n",
      "8   64350171.0    106.0  Released   \n",
      "\n",
      "                                             tagline  \\\n",
      "1          Roll the dice and unleash the excitement!   \n",
      "3  Friends are the people who let you be yourself...   \n",
      "4  Just When His World Is Back To Normal... He's ...   \n",
      "5                           A Los Angeles Crime Saga   \n",
      "8                         Terror goes into overtime.   \n",
      "\n",
      "                         title  video vote_average  vote_count  release_month  \\\n",
      "1                      Jumanji  False          6.9      2413.0             12   \n",
      "3            Waiting to Exhale  False          6.1        34.0             12   \n",
      "4  Father of the Bride Part II  False          5.7       173.0             02   \n",
      "5                         Heat  False          7.7      1886.0             12   \n",
      "8                 Sudden Death  False          5.5       174.0             12   \n",
      "\n",
      "    YR-MTH  \n",
      "1  1995-12  \n",
      "3  1995-12  \n",
      "4  1995-02  \n",
      "5  1995-12  \n",
      "8  1995-12  \n",
      "\n",
      "[5 rows x 21 columns]\n"
     ]
    }
   ],
   "source": [
    "# pulling in data, fixing genre column\n",
    "mb_df = pd.read_csv(\"movies_metadata.csv\", error_bad_lines=False)\n",
    "mb_df.genre=mb_df.genre.str.replace('[^a-zA-Z]', '')\n",
    "\n",
    "#removing budget or revenue zeros\n",
    "mb_df=mb_df[mb_df.budget >0]\n",
    "mb_df=mb_df[mb_df.revenue >0]\n",
    "mb_df=mb_df.dropna()\n",
    "\n",
    "#removing weird id values\n",
    "mb_df=mb_df[mb_df.genre !='VALUE']\n",
    "mb_df=mb_df[mb_df.genre !='ediaid']\n",
    "mb_df=mb_df[mb_df.genre !='id']\n",
    "mb_df=mb_df[mb_df.genre !='Productionsid']\n",
    "\n",
    "#add release month\n",
    "mb_df['release_date']=mb_df['release_date'].astype(str)\n",
    "mb_df['release_month']=mb_df['release_date'].map(lambda x: x[5:7])\n",
    "\n",
    "#add YR-MTH to connect to inflation table\n",
    "mb_df['YR-MTH']=mb_df['release_date'].map(lambda x: x[:7])\n",
    "\n",
    "print mb_df.shape\n",
    "print mb_df.head()"
   ]
  },
  {
   "cell_type": "code",
   "execution_count": 3,
   "metadata": {
    "collapsed": false
   },
   "outputs": [
    {
     "name": "stdout",
     "output_type": "stream",
     "text": [
      "['Action' 'Adventure' 'Animation' 'Comedy' 'Crime' 'Documentary' 'Drama'\n",
      " 'Family' 'Fantasy' 'Foreign' 'History' 'Horror' 'Music' 'Mystery'\n",
      " 'Romance' 'ScienceFiction' 'TVMovie' 'Thriller' 'War' 'Western']\n"
     ]
    }
   ],
   "source": [
    "print np.unique(mb_df.genre)"
   ]
  },
  {
   "cell_type": "code",
   "execution_count": 4,
   "metadata": {
    "collapsed": false
   },
   "outputs": [
    {
     "name": "stdout",
     "output_type": "stream",
     "text": [
      "         Date    Value   YR-MTH\n",
      "0  2017-10-31  246.663  2017-10\n",
      "1  2017-09-30  246.819  2017-09\n",
      "2  2017-08-31  245.519  2017-08\n",
      "3  2017-07-31  244.786  2017-07\n",
      "4  2017-06-30  244.955  2017-06\n",
      "            Date  Value   YR-MTH\n",
      "1253  1913-05-31    9.7  1913-05\n",
      "1254  1913-04-30    9.8  1913-04\n",
      "1255  1913-03-31    9.8  1913-03\n",
      "1256  1913-02-28    9.8  1913-02\n",
      "1257  1913-01-31    9.8  1913-01\n"
     ]
    }
   ],
   "source": [
    "#pulling in inflation, adding YR-MTH column to link to movies df\n",
    "\n",
    "inflation=pd.read_csv(\"https://www.quandl.com/api/v3/datasets/RATEINF/CPI_USA.csv?api_key=EaN-sDKDUb9c3AXGdQkS\")\n",
    "inflation['YR-MTH']=inflation['Date'].map(lambda x: x[:7])\n",
    "print inflation.head()\n",
    "print inflation.tail()"
   ]
  },
  {
   "cell_type": "code",
   "execution_count": 5,
   "metadata": {
    "collapsed": false
   },
   "outputs": [
    {
     "name": "stdout",
     "output_type": "stream",
     "text": [
      "   adult  Franchise    budget      genre     id    imdb_id original_language  \\\n",
      "0  FALSE          0  65000000  Adventure   8844  tt0113497                en   \n",
      "1  FALSE          0  16000000     Comedy  31357  tt0114885                en   \n",
      "2  FALSE          1         0     Comedy  11862  tt0113041                en   \n",
      "3  FALSE          0  60000000     Action    949  tt0113277                en   \n",
      "4  FALSE          0  35000000     Action   9091  tt0114576                en   \n",
      "\n",
      "                original_title  \\\n",
      "0                      Jumanji   \n",
      "1            Waiting to Exhale   \n",
      "2  Father of the Bride Part II   \n",
      "3                         Heat   \n",
      "4                 Sudden Death   \n",
      "\n",
      "                                            overview popularity  ...    \\\n",
      "0  When siblings Judy and Peter discover an encha...    17.0155  ...     \n",
      "1  Cheated on, mistreated and stepped on, the wom...    3.85949  ...     \n",
      "2  Just when George Banks has recovered from his ...    8.38752  ...     \n",
      "3  Obsessive master thief, Neil McCauley leads a ...    17.9249  ...     \n",
      "4  International action superstar Jean Claude Van...    5.23158  ...     \n",
      "\n",
      "     status                                            tagline  \\\n",
      "0  Released          Roll the dice and unleash the excitement!   \n",
      "1  Released  Friends are the people who let you be yourself...   \n",
      "2  Released  Just When His World Is Back To Normal... He's ...   \n",
      "3  Released                           A Los Angeles Crime Saga   \n",
      "4  Released                         Terror goes into overtime.   \n",
      "\n",
      "                         title  video vote_average vote_count release_month  \\\n",
      "0                      Jumanji  False          6.9     2413.0            12   \n",
      "1            Waiting to Exhale  False          6.1       34.0            12   \n",
      "2  Father of the Bride Part II  False          5.7      173.0            02   \n",
      "3                         Heat  False          7.7     1886.0            12   \n",
      "4                 Sudden Death  False          5.5      174.0            12   \n",
      "\n",
      "    YR-MTH        Date  Value  \n",
      "0  1995-12  1995-12-31  153.5  \n",
      "1  1995-12  1995-12-31  153.5  \n",
      "2  1995-02  1995-02-28  150.9  \n",
      "3  1995-12  1995-12-31  153.5  \n",
      "4  1995-12  1995-12-31  153.5  \n",
      "\n",
      "[5 rows x 23 columns]\n",
      "['1915-02' '1916-12' '1921-01' '1924-03' '1925-06' '1925-12' '1927-01'\n",
      " '1927-09' '1928-04' '1928-07' '1928-08' '1929-02' '1930-10' '1930-11'\n",
      " '1931-01' '1931-02' '1931-11' '1931-12' '1932-04' '1932-05' '1932-12'\n",
      " '1933-02' '1933-04' '1933-10' '1934-02' '1934-05' '1934-11' '1935-04'\n",
      " '1935-09' '1935-11' '1936-02' '1936-06' '1936-08' '1936-10' '1937-12'\n",
      " '1938-05' '1938-08' '1939-01' '1939-03' '1939-08' '1939-10' '1939-12'\n",
      " '1940-02' '1940-04' '1940-08' '1940-10' '1940-11' '1941-04' '1941-07'\n",
      " '1941-10' '1941-11' '1942-06' '1942-08' '1942-10' '1942-11' '1942-12'\n",
      " '1943-04' '1943-05' '1944-03' '1944-04' '1944-05' '1944-07' '1944-08'\n",
      " '1944-10' '1945-09' '1945-11' '1945-12' '1946-08' '1946-12' '1948-01'\n",
      " '1948-03' '1948-04' '1948-06' '1948-08' '1948-11' '1948-12' '1949-08'\n",
      " '1949-10' '1949-12' '1950-03' '1950-08' '1950-11' '1950-12' '1951-06'\n",
      " '1951-07' '1951-08' '1951-09' '1951-10' '1951-11' '1951-12' '1952-03'\n",
      " '1952-04' '1952-05' '1952-10' '1953-01' '1953-02' '1953-04' '1953-06'\n",
      " '1953-08' '1953-09' '1954-01' '1954-02' '1954-03' '1954-04' '1954-05'\n",
      " '1954-06' '1954-07' '1954-08' '1954-09' '1954-12' '1955-01' '1955-02'\n",
      " '1955-03' '1955-04' '1955-06' '1955-08' '1955-10' '1955-12' '1956-03'\n",
      " '1956-05' '1956-06' '1956-07' '1956-08' '1956-10' '1956-11' '1956-12'\n",
      " '1957-03' '1957-05' '1957-06' '1957-10' '1957-12' '1958-01' '1958-02'\n",
      " '1958-03' '1958-04' '1958-05' '1958-07' '1958-10' '1959-01' '1959-03'\n",
      " '1959-06' '1959-07' '1959-12' '1960-02' '1960-04' '1960-05' '1960-06'\n",
      " '1960-07' '1960-10' '1960-12' '1961-01' '1961-04' '1961-05' '1961-07'\n",
      " '1961-08' '1961-09' '1961-10' '1961-11' '1961-12' '1962-03' '1962-04'\n",
      " '1962-05' '1962-06' '1962-07' '1962-09' '1962-10' '1962-11' '1963-01'\n",
      " '1963-03' '1963-05' '1963-06' '1963-10' '1963-11' '1963-12' '1964-01'\n",
      " '1964-03' '1964-06' '1964-07' '1964-08' '1964-09' '1964-10' '1964-11'\n",
      " '1965-01' '1965-03' '1965-06' '1965-07' '1965-10' '1965-12' '1966-01'\n",
      " '1966-02' '1966-04' '1966-06' '1966-07' '1966-08' '1966-09' '1966-10'\n",
      " '1966-12' '1967-03' '1967-04' '1967-05' '1967-06' '1967-07' '1967-08'\n",
      " '1967-10' '1967-12' '1968-02' '1968-03' '1968-04' '1968-06' '1968-07'\n",
      " '1968-09' '1968-10' '1968-11' '1968-12' '1969-01' '1969-02' '1969-04'\n",
      " '1969-05' '1969-06' '1969-09' '1969-10' '1969-12' '1970-01' '1970-02'\n",
      " '1970-03' '1970-05' '1970-06' '1970-07' '1970-10' '1970-12' '1971-01'\n",
      " '1971-02' '1971-03' '1971-04' '1971-05' '1971-06' '1971-07' '1971-10'\n",
      " '1971-11' '1971-12' '1972-01' '1972-03' '1972-05' '1972-06' '1972-07'\n",
      " '1972-08' '1972-10' '1972-12' '1973-04' '1973-05' '1973-06' '1973-07'\n",
      " '1973-08' '1973-10' '1973-11' '1973-12' '1974-01' '1974-02' '1974-03'\n",
      " '1974-04' '1974-05' '1974-06' '1974-07' '1974-08' '1974-10' '1974-11'\n",
      " '1974-12' '1975-03' '1975-04' '1975-05' '1975-06' '1975-08' '1975-09'\n",
      " '1975-10' '1975-11' '1975-12' '1976-01' '1976-02' '1976-03' '1976-04'\n",
      " '1976-05' '1976-06' '1976-07' '1976-08' '1976-09' '1976-10' '1976-11'\n",
      " '1976-12' '1977-01' '1977-02' '1977-03' '1977-04' '1977-05' '1977-06'\n",
      " '1977-07' '1977-08' '1977-10' '1977-11' '1977-12' '1978-01' '1978-02'\n",
      " '1978-03' '1978-04' '1978-05' '1978-06' '1978-07' '1978-09' '1978-10'\n",
      " '1978-11' '1978-12' '1979-01' '1979-02' '1979-03' '1979-04' '1979-05'\n",
      " '1979-06' '1979-07' '1979-08' '1979-10' '1979-11' '1979-12' '1980-01'\n",
      " '1980-02' '1980-03' '1980-04' '1980-05' '1980-06' '1980-07' '1980-08'\n",
      " '1980-09' '1980-10' '1980-11' '1980-12' '1981-01' '1981-02' '1981-03'\n",
      " '1981-04' '1981-05' '1981-06' '1981-07' '1981-08' '1981-09' '1981-10'\n",
      " '1981-11' '1981-12' '1982-01' '1982-02' '1982-03' '1982-04' '1982-05'\n",
      " '1982-06' '1982-07' '1982-08' '1982-09' '1982-10' '1982-11' '1982-12'\n",
      " '1983-01' '1983-02' '1983-03' '1983-04' '1983-05' '1983-06' '1983-07'\n",
      " '1983-08' '1983-09' '1983-10' '1983-11' '1983-12' '1984-02' '1984-03'\n",
      " '1984-04' '1984-05' '1984-06' '1984-07' '1984-08' '1984-09' '1984-10'\n",
      " '1984-11' '1984-12' '1985-01' '1985-02' '1985-03' '1985-04' '1985-05'\n",
      " '1985-06' '1985-07' '1985-08' '1985-09' '1985-10' '1985-11' '1985-12'\n",
      " '1986-01' '1986-02' '1986-03' '1986-04' '1986-05' '1986-06' '1986-07'\n",
      " '1986-08' '1986-09' '1986-10' '1986-11' '1986-12' '1987-01' '1987-02'\n",
      " '1987-03' '1987-04' '1987-05' '1987-06' '1987-07' '1987-08' '1987-09'\n",
      " '1987-10' '1987-11' '1987-12' '1988-01' '1988-02' '1988-03' '1988-04'\n",
      " '1988-05' '1988-06' '1988-07' '1988-08' '1988-09' '1988-10' '1988-11'\n",
      " '1988-12' '1989-01' '1989-02' '1989-03' '1989-04' '1989-05' '1989-06'\n",
      " '1989-07' '1989-08' '1989-09' '1989-10' '1989-11' '1989-12' '1990-01'\n",
      " '1990-02' '1990-03' '1990-04' '1990-05' '1990-06' '1990-07' '1990-08'\n",
      " '1990-09' '1990-10' '1990-11' '1990-12' '1991-01' '1991-02' '1991-03'\n",
      " '1991-04' '1991-05' '1991-06' '1991-07' '1991-08' '1991-09' '1991-10'\n",
      " '1991-11' '1991-12' '1992-01' '1992-02' '1992-03' '1992-04' '1992-05'\n",
      " '1992-06' '1992-07' '1992-08' '1992-09' '1992-10' '1992-11' '1992-12'\n",
      " '1993-01' '1993-02' '1993-03' '1993-04' '1993-05' '1993-06' '1993-07'\n",
      " '1993-08' '1993-09' '1993-10' '1993-11' '1993-12' '1994-01' '1994-02'\n",
      " '1994-03' '1994-04' '1994-05' '1994-06' '1994-07' '1994-08' '1994-09'\n",
      " '1994-10' '1994-11' '1994-12' '1995-01' '1995-02' '1995-03' '1995-04'\n",
      " '1995-05' '1995-06' '1995-07' '1995-08' '1995-09' '1995-10' '1995-11'\n",
      " '1995-12' '1996-01' '1996-02' '1996-03' '1996-04' '1996-05' '1996-06'\n",
      " '1996-07' '1996-08' '1996-09' '1996-10' '1996-11' '1996-12' '1997-01'\n",
      " '1997-02' '1997-03' '1997-04' '1997-05' '1997-06' '1997-07' '1997-08'\n",
      " '1997-09' '1997-10' '1997-11' '1997-12' '1998-01' '1998-02' '1998-03'\n",
      " '1998-04' '1998-05' '1998-06' '1998-07' '1998-08' '1998-09' '1998-10'\n",
      " '1998-11' '1998-12' '1999-01' '1999-02' '1999-03' '1999-04' '1999-05'\n",
      " '1999-06' '1999-07' '1999-08' '1999-09' '1999-10' '1999-11' '1999-12'\n",
      " '2000-01' '2000-02' '2000-03' '2000-04' '2000-05' '2000-06' '2000-07'\n",
      " '2000-08' '2000-09' '2000-10' '2000-11' '2000-12' '2001-01' '2001-02'\n",
      " '2001-03' '2001-04' '2001-05' '2001-06' '2001-07' '2001-08' '2001-09'\n",
      " '2001-10' '2001-11' '2001-12' '2002-01' '2002-02' '2002-03' '2002-04'\n",
      " '2002-05' '2002-06' '2002-07' '2002-08' '2002-09' '2002-10' '2002-11'\n",
      " '2002-12' '2003-01' '2003-02' '2003-03' '2003-04' '2003-05' '2003-06'\n",
      " '2003-07' '2003-08' '2003-09' '2003-10' '2003-11' '2003-12' '2004-01'\n",
      " '2004-02' '2004-03' '2004-04' '2004-05' '2004-06' '2004-07' '2004-08'\n",
      " '2004-09' '2004-10' '2004-11' '2004-12' '2005-01' '2005-02' '2005-03'\n",
      " '2005-04' '2005-05' '2005-06' '2005-07' '2005-08' '2005-09' '2005-10'\n",
      " '2005-11' '2005-12' '2006-01' '2006-02' '2006-03' '2006-04' '2006-05'\n",
      " '2006-06' '2006-07' '2006-08' '2006-09' '2006-10' '2006-11' '2006-12'\n",
      " '2007-01' '2007-02' '2007-03' '2007-04' '2007-05' '2007-06' '2007-07'\n",
      " '2007-08' '2007-09' '2007-10' '2007-11' '2007-12' '2008-01' '2008-02'\n",
      " '2008-03' '2008-04' '2008-05' '2008-06' '2008-07' '2008-08' '2008-09'\n",
      " '2008-10' '2008-11' '2008-12' '2009-01' '2009-02' '2009-03' '2009-04'\n",
      " '2009-05' '2009-06' '2009-07' '2009-08' '2009-09' '2009-10' '2009-11'\n",
      " '2009-12' '2010-01' '2010-02' '2010-03' '2010-04' '2010-05' '2010-06'\n",
      " '2010-07' '2010-08' '2010-09' '2010-10' '2010-11' '2010-12' '2011-01'\n",
      " '2011-02' '2011-03' '2011-04' '2011-05' '2011-06' '2011-07' '2011-08'\n",
      " '2011-09' '2011-10' '2011-11' '2011-12' '2012-01' '2012-02' '2012-03'\n",
      " '2012-04' '2012-05' '2012-06' '2012-07' '2012-08' '2012-09' '2012-10'\n",
      " '2012-11' '2012-12' '2013-01' '2013-02' '2013-03' '2013-04' '2013-05'\n",
      " '2013-06' '2013-07' '2013-08' '2013-09' '2013-10' '2013-11' '2013-12'\n",
      " '2014-01' '2014-02' '2014-03' '2014-04' '2014-05' '2014-06' '2014-07'\n",
      " '2014-08' '2014-09' '2014-10' '2014-11' '2014-12' '2015-01' '2015-02'\n",
      " '2015-03' '2015-04' '2015-05' '2015-06' '2015-07' '2015-08' '2015-09'\n",
      " '2015-10' '2015-11' '2015-12' '2016-01' '2016-02' '2016-03' '2016-04'\n",
      " '2016-05' '2016-06' '2016-07' '2016-08' '2016-09' '2016-10' '2016-11'\n",
      " '2016-12' '2017-01' '2017-02' '2017-03' '2017-04' '2017-05' '2017-06'\n",
      " '2017-07' '2017-08']\n"
     ]
    }
   ],
   "source": [
    "#join inflation and movie dfs\n",
    "mb_df=pd.merge(mb_df, inflation, on ='YR-MTH', how ='left')\n",
    "print mb_df.head()\n",
    "\n",
    "print np.unique(mb_df['YR-MTH'])"
   ]
  },
  {
   "cell_type": "code",
   "execution_count": 6,
   "metadata": {
    "collapsed": false
   },
   "outputs": [
    {
     "name": "stdout",
     "output_type": "stream",
     "text": [
      "   adult  Franchise      budget      genre     id    imdb_id  \\\n",
      "0  FALSE          0  65000000.0  Adventure   8844  tt0113497   \n",
      "1  FALSE          0  16000000.0     Comedy  31357  tt0114885   \n",
      "3  FALSE          0  60000000.0     Action    949  tt0113277   \n",
      "4  FALSE          0  35000000.0     Action   9091  tt0114576   \n",
      "5  FALSE          1  58000000.0  Adventure    710  tt0113189   \n",
      "\n",
      "  original_language     original_title  \\\n",
      "0                en            Jumanji   \n",
      "1                en  Waiting to Exhale   \n",
      "3                en               Heat   \n",
      "4                en       Sudden Death   \n",
      "5                en          GoldenEye   \n",
      "\n",
      "                                            overview popularity  \\\n",
      "0  When siblings Judy and Peter discover an encha...    17.0155   \n",
      "1  Cheated on, mistreated and stepped on, the wom...    3.85949   \n",
      "3  Obsessive master thief, Neil McCauley leads a ...    17.9249   \n",
      "4  International action superstar Jean Claude Van...    5.23158   \n",
      "5  James Bond must unmask the mysterious head of ...     14.686   \n",
      "\n",
      "       ...       vote_average  vote_count  release_month   YR-MTH        Date  \\\n",
      "0      ...                6.9      2413.0             12  1995-12  1995-12-31   \n",
      "1      ...                6.1        34.0             12  1995-12  1995-12-31   \n",
      "3      ...                7.7      1886.0             12  1995-12  1995-12-31   \n",
      "4      ...                5.5       174.0             12  1995-12  1995-12-31   \n",
      "5      ...                6.6      1194.0             11  1995-11  1995-11-30   \n",
      "\n",
      "   Value       CPI    budget_adj   revenue_adj is_blockbuster  \n",
      "0  153.5  1.606925  1.044501e+08  4.222955e+08              1  \n",
      "1  153.5  1.606925  2.571080e+07  1.308875e+08              1  \n",
      "3  153.5  1.606925  9.641550e+07  3.011969e+08              1  \n",
      "4  153.5  1.606925  5.624238e+07  1.034059e+08              0  \n",
      "5  153.6  1.605879  9.314098e+07  5.655810e+08              1  \n",
      "\n",
      "[5 rows x 27 columns]\n",
      "(4625, 27)\n",
      "1254\n"
     ]
    }
   ],
   "source": [
    "#finding cpi\n",
    "\n",
    "mb_df['CPI']=mb_df['Value'].map(lambda x: 246.663/float(x))\n",
    "\n",
    "#calcing adjusted revenue and budget\n",
    "mb_df.budget=mb_df.budget.astype(float)\n",
    "mb_df.revenue=mb_df.revenue.astype(float)\n",
    "\n",
    "mb_df['budget_adj']=mb_df.budget*mb_df.CPI\n",
    "mb_df['revenue_adj']=mb_df.revenue*mb_df.CPI\n",
    "\n",
    "\n",
    "#defining is_blockbuster\n",
    "mb_df['is_blockbuster']= np.where(mb_df.revenue_adj-mb_df.budget_adj>100000000,1,0)\n",
    "\n",
    "mb_df=mb_df[mb_df['budget']>0]\n",
    "mb_df=mb_df[mb_df['revenue']>0]\n",
    "\n",
    "print mb_df.head()\n",
    "print mb_df.shape\n",
    "print mb_df['is_blockbuster'].sum()"
   ]
  },
  {
   "cell_type": "code",
   "execution_count": 7,
   "metadata": {
    "collapsed": false
   },
   "outputs": [
    {
     "name": "stdout",
     "output_type": "stream",
     "text": [
      "['Jumanji' 'Waiting to Exhale' 'Heat' 'Sudden Death' 'GoldenEye']\n",
      "(4625,)\n"
     ]
    }
   ],
   "source": [
    "#defining titles\n",
    "titles=mb_df.title.values\n",
    "\n",
    "\n",
    "print titles[0:5]\n",
    "print titles.shape"
   ]
  },
  {
   "cell_type": "code",
   "execution_count": 8,
   "metadata": {
    "collapsed": false
   },
   "outputs": [],
   "source": [
    "#filtering out non-alpha characters from titles\n",
    "for i in range(len(titles)):        \n",
    "        titles[i]=re.sub(\"[^a-zA-Z]+\", \" \", titles[i])\n",
    "        titles[i]=titles[i].lower()\n",
    "        titles[i]=re.sub(r'\\b\\w{1,3}\\b', ' ', titles[i])"
   ]
  },
  {
   "cell_type": "code",
   "execution_count": 9,
   "metadata": {
    "collapsed": false
   },
   "outputs": [
    {
     "name": "stdout",
     "output_type": "stream",
     "text": [
      "(4625, 89)\n",
      "[u'about', u'after', u'american', u'baby', u'back', u'battle', u'before', u'best', u'black', u'blood', u'blue', u'boys', u'christmas', u'city', u'dark', u'dawn', u'days', u'dead', u'death', u'devil', u'down', u'dragon', u'earth', u'escape', u'evil', u'final', u'fire', u'four', u'friday', u'from', u'game', u'ghost', u'girl', u'good', u'great', u'halloween', u'hard', u'harry', u'heart', u'heaven', u'high', u'home', u'hood', u'house', u'kill', u'king', u'land', u'last', u'legend', u'life', u'like', u'little', u'lost', u'love', u'meet', u'monster', u'movie', u'never', u'next', u'night', u'paris', u'part', u'perfect', u'planet', u'prince', u'return', u'road', u'rock', u'secret', u'space', u'star', u'story', u'street', u'this', u'time', u'train', u'trek', u'walk', u'water', u'wedding', u'what', u'when', u'white', u'wild', u'with', u'woman', u'world', u'year', u'your']\n"
     ]
    }
   ],
   "source": [
    "#running count_vectorizer on titles\n",
    "cv=CountVectorizer(min_df=10)\n",
    "title_cv=cv.fit_transform(titles)\n",
    "print title_cv.shape\n",
    "\n",
    "test_features=cv.get_feature_names()\n",
    "print test_features\n"
   ]
  },
  {
   "cell_type": "code",
   "execution_count": 10,
   "metadata": {
    "collapsed": false
   },
   "outputs": [
    {
     "name": "stdout",
     "output_type": "stream",
     "text": [
      "   is_blockbuster  Franchise    budget_adj  runtime  Action  Adventure  \\\n",
      "0               1          0  1.044501e+08    104.0     0.0        1.0   \n",
      "1               1          0  2.571080e+07    127.0     0.0        0.0   \n",
      "3               1          0  9.641550e+07    170.0     1.0        0.0   \n",
      "4               0          0  5.624238e+07    106.0     1.0        0.0   \n",
      "5               1          1  9.314098e+07    130.0     0.0        1.0   \n",
      "\n",
      "   Animation  Comedy  Crime  Documentary ...    03   04   05   06   07   08  \\\n",
      "0        0.0     0.0    0.0          0.0 ...   0.0  0.0  0.0  0.0  0.0  0.0   \n",
      "1        0.0     1.0    0.0          0.0 ...   0.0  0.0  0.0  0.0  0.0  0.0   \n",
      "3        0.0     0.0    0.0          0.0 ...   0.0  0.0  0.0  0.0  0.0  0.0   \n",
      "4        0.0     0.0    0.0          0.0 ...   0.0  0.0  0.0  0.0  0.0  0.0   \n",
      "5        0.0     0.0    0.0          0.0 ...   0.0  0.0  0.0  0.0  0.0  0.0   \n",
      "\n",
      "    09   10   11   12  \n",
      "0  0.0  0.0  0.0  1.0  \n",
      "1  0.0  0.0  0.0  1.0  \n",
      "3  0.0  0.0  0.0  1.0  \n",
      "4  0.0  0.0  0.0  1.0  \n",
      "5  0.0  0.0  1.0  0.0  \n",
      "\n",
      "[5 rows x 37 columns]\n",
      "(4625, 126)\n"
     ]
    }
   ],
   "source": [
    "#defining new df, adding dummies, combining with titles\n",
    "\n",
    "mx=mb_df[['is_blockbuster','adult', 'Franchise', 'budget_adj', 'genre','runtime', 'release_month']]\n",
    "\n",
    "mx = mx.join(pd.get_dummies(mx['genre'])).drop('genre', axis=1)\n",
    "mx = mx.join(pd.get_dummies(mx['adult'])).drop('adult', axis=1)\n",
    "mx = mx.join(pd.get_dummies(mx['release_month'])).drop('release_month', axis=1)\n",
    "\n",
    "print mx.head()\n",
    "\n",
    "movie_array=sparse.hstack((mx,title_cv))\n",
    "\n",
    "print movie_array.shape"
   ]
  },
  {
   "cell_type": "code",
   "execution_count": 11,
   "metadata": {
    "collapsed": false
   },
   "outputs": [
    {
     "name": "stdout",
     "output_type": "stream",
     "text": [
      "(3500, 125)\n",
      "(3500,)\n",
      "(1125, 125)\n",
      "(1125,)\n"
     ]
    }
   ],
   "source": [
    "#slicing train and test data sets\n",
    "movie_array=movie_array.toarray()\n",
    "\n",
    "train_data=movie_array[0:3500,1:]\n",
    "train_labels=movie_array[0:3500,0] #.reshape(len(train_labels,1))\n",
    "\n",
    "test_data=movie_array[3500:,1:]\n",
    "test_labels=movie_array[3500:,1] #.reshape(len(test_labels, 1))\n",
    "\n",
    "print train_data.shape\n",
    "print train_labels.shape\n",
    "\n",
    "print test_data.shape\n",
    "print test_labels.shape\n"
   ]
  },
  {
   "cell_type": "code",
   "execution_count": 86,
   "metadata": {
    "collapsed": false
   },
   "outputs": [
    {
     "name": "stdout",
     "output_type": "stream",
     "text": [
      "for k =  5, accuracy =0.771556\n",
      "for k = 15, accuracy =0.796444\n",
      "for k = 25, accuracy =0.800000\n",
      "for k = 35, accuracy =0.809778\n",
      "for k = 45, accuracy =0.808889\n",
      "for k = 55, accuracy =0.808889\n",
      "for k = 65, accuracy =0.806222\n",
      "for k = 75, accuracy =0.806222\n",
      "for k = 85, accuracy =0.807111\n",
      "for k = 95, accuracy =0.804444\n"
     ]
    },
    {
     "data": {
      "image/png": "[encoded data removed]",
      "text/plain": [
       "<matplotlib.figure.Figure at 0x11729bf10>"
      ]
     },
     "metadata": {},
     "output_type": "display_data"
    },
    {
     "name": "stdout",
     "output_type": "stream",
     "text": [
      "139.0\n"
     ]
    }
   ],
   "source": [
    "#knn model\n",
    "\n",
    "k_values = range(5,100,10)\n",
    "acc=[]\n",
    "kvals=[]\n",
    "for k in k_values:\n",
    "    clf=KNeighborsClassifier(k)\n",
    "    clf.fit(train_data, train_labels)\n",
    "    preds_knn=clf.predict(test_data)\n",
    "    accuracy=metrics.accuracy_score(test_labels, preds_knn)\n",
    "    \n",
    "    acc.append(accuracy)\n",
    "    kvals.append(k)\n",
    "    print 'for k =%3d, accuracy =%3f' %(k,accuracy)\n",
    "    \n",
    "plt.plot(kvals,acc)\n",
    "plt.title('K-Neighbors Model')\n",
    "plt.xlabel('K')\n",
    "plt.ylabel('Accuracy')\n",
    "plt.show()\n",
    "print sum(preds_knn)"
   ]
  },
  {
   "cell_type": "code",
   "execution_count": 85,
   "metadata": {
    "collapsed": false,
    "scrolled": true
   },
   "outputs": [
    {
     "name": "stdout",
     "output_type": "stream",
     "text": [
      "286.0\n",
      "for alpha =0.000000, accuracy score =0.769778\n",
      "286.0\n",
      "for alpha =0.000100, accuracy score =0.769778\n",
      "286.0\n",
      "for alpha =0.001000, accuracy score =0.769778\n",
      "286.0\n",
      "for alpha =0.010000, accuracy score =0.769778\n",
      "286.0\n",
      "for alpha =0.100000, accuracy score =0.769778\n",
      "286.0\n",
      "for alpha =0.500000, accuracy score =0.769778\n",
      "286.0\n",
      "for alpha =1.000000, accuracy score =0.769778\n",
      "286.0\n",
      "for alpha =2.000000, accuracy score =0.769778\n",
      "287.0\n",
      "for alpha =10.000000, accuracy score =0.768889\n"
     ]
    },
    {
     "data": {
      "image/png": "[encoded data removed]",
      "text/plain": [
       "<matplotlib.figure.Figure at 0x11729b390>"
      ]
     },
     "metadata": {},
     "output_type": "display_data"
    }
   ],
   "source": [
    "#nb model\n",
    "\n",
    "alphas = {'alpha': [0., 0.0001, 0.001, 0.01, 0.1, 0.5, 1.0, 2.0, 10.0]}\n",
    "alpha_list=alphas['alpha']\n",
    "\n",
    "acc=[]\n",
    "alphavals=[]\n",
    "for alpha in alpha_list:\n",
    "    mnb=MultinomialNB(alpha=alpha)\n",
    "    mnb.fit(train_data, train_labels)\n",
    "    preds_mnb=mnb.predict(test_data)\n",
    "    accuracy=metrics.accuracy_score(test_labels, preds_mnb)\n",
    "    print sum(preds_mnb)\n",
    "    acc.append(accuracy)\n",
    "    alphavals.append(alpha)\n",
    "    print 'for alpha =%3f, accuracy score =%3f' %(alpha,accuracy)\n",
    "    \n",
    "plt.semilogx(alphavals, acc)\n",
    "plt.title('Multinomial NB Model')\n",
    "plt.xlabel('Alpha Parameters')\n",
    "plt.ylabel('Accuracy')\n",
    "plt.show()"
   ]
  },
  {
   "cell_type": "code",
   "execution_count": 22,
   "metadata": {
    "collapsed": false
   },
   "outputs": [
    {
     "name": "stdout",
     "output_type": "stream",
     "text": [
      "for C =0.001000, accuracy=0.809778, sum of squared weights=0.000232,\n",
      "for C =0.010000, accuracy=0.828444, sum of squared weights=0.078647,\n",
      "for C =0.100000, accuracy=0.864000, sum of squared weights=3.530815,\n",
      "for C =1.000000, accuracy=0.885333, sum of squared weights=23.926882,\n",
      "for C =10.000000, accuracy=0.882667, sum of squared weights=97.060142,\n",
      "for C =100.000000, accuracy=0.880000, sum of squared weights=240.830039,\n",
      "for C =1000.000000, accuracy=0.878222, sum of squared weights=391.053167,\n"
     ]
    },
    {
     "data": {
      "image/png": "[encoded data removed]",
      "text/plain": [
       "<matplotlib.figure.Figure at 0x1046ca410>"
      ]
     },
     "metadata": {},
     "output_type": "display_data"
    }
   ],
   "source": [
    "param_grid = {'C': [0.001, 0.01, 0.1, 1, 10, 100, 1000] }\n",
    "C_list=param_grid['C']\n",
    "\n",
    "cvals=[]\n",
    "acc=[]\n",
    "\n",
    "for C in C_list:\n",
    "    lr=LogisticRegression(penalty='l1',C=C)\n",
    "    lr.fit(train_data, train_labels)\n",
    "    preds_lr=lr.predict(test_data)\n",
    "    accuracy=metrics.accuracy_score(test_labels, preds_lr)\n",
    "    s_sq_weights=np.sum(np.square(lr.coef_))\n",
    "\n",
    "    cvals.append(C)\n",
    "    acc.append(accuracy)\n",
    "    print 'for C =%3f, accuracy=%3f, sum of squared weights=%3f,' %(C, accuracy,s_sq_weights)\n",
    "\n",
    "plt.semilogx(cvals, acc) \n",
    "plt.xlabel('Regularization Param')\n",
    "plt.ylabel('Accuracy')\n",
    "plt.title('Logistic Regression Model')\n",
    "plt.show()"
   ]
  },
  {
   "cell_type": "code",
   "execution_count": 42,
   "metadata": {
    "collapsed": false
   },
   "outputs": [
    {
     "name": "stdout",
     "output_type": "stream",
     "text": [
      "(125, 1)\n"
     ]
    }
   ],
   "source": [
    "#lr with best params, c=1.\n",
    "lr1=LogisticRegression(penalty='l1',C=1.)\n",
    "lr1.fit(train_data, train_labels)\n",
    "\n",
    "print lr1.coef_.T.shape\n",
    "coefs=lr1.coef_.T\n",
    "\n",
    "\n"
   ]
  },
  {
   "cell_type": "code",
   "execution_count": 43,
   "metadata": {
    "collapsed": false
   },
   "outputs": [
    {
     "ename": "ValueError",
     "evalue": "cannot reshape array of size 96 into shape (125,1)",
     "output_type": "error",
     "traceback": [
      "\u001b[0;31m---------------------------------------------------------------------------\u001b[0m",
      "\u001b[0;31mValueError\u001b[0m                                Traceback (most recent call last)",
      "\u001b[0;32m<ipython-input-43-db38b9b3470f>\u001b[0m in \u001b[0;36m<module>\u001b[0;34m()\u001b[0m\n\u001b[1;32m      1\u001b[0m \u001b[0mcol_names\u001b[0m\u001b[0;34m=\u001b[0m\u001b[0mlist\u001b[0m\u001b[0;34m(\u001b[0m\u001b[0mmx\u001b[0m\u001b[0;34m)\u001b[0m\u001b[0;34m\u001b[0m\u001b[0m\n\u001b[0;32m----> 2\u001b[0;31m \u001b[0mcol_names\u001b[0m\u001b[0;34m=\u001b[0m\u001b[0mnp\u001b[0m\u001b[0;34m.\u001b[0m\u001b[0marray\u001b[0m\u001b[0;34m(\u001b[0m\u001b[0mcol_names\u001b[0m\u001b[0;34m[\u001b[0m\u001b[0;36m1\u001b[0m\u001b[0;34m:\u001b[0m\u001b[0;34m]\u001b[0m\u001b[0;34m+\u001b[0m\u001b[0mtest_features\u001b[0m\u001b[0;34m)\u001b[0m\u001b[0;34m.\u001b[0m\u001b[0mreshape\u001b[0m\u001b[0;34m(\u001b[0m\u001b[0;36m125\u001b[0m\u001b[0;34m,\u001b[0m\u001b[0;36m1\u001b[0m\u001b[0;34m)\u001b[0m\u001b[0;34m\u001b[0m\u001b[0m\n\u001b[0m\u001b[1;32m      3\u001b[0m \u001b[0mstack\u001b[0m\u001b[0;34m=\u001b[0m\u001b[0mnp\u001b[0m\u001b[0;34m.\u001b[0m\u001b[0mhstack\u001b[0m\u001b[0;34m(\u001b[0m\u001b[0;34m(\u001b[0m\u001b[0mcol_names\u001b[0m\u001b[0;34m,\u001b[0m \u001b[0mcoefs\u001b[0m\u001b[0;34m)\u001b[0m\u001b[0;34m)\u001b[0m\u001b[0;34m\u001b[0m\u001b[0m\n\u001b[1;32m      4\u001b[0m \u001b[0;32mprint\u001b[0m \u001b[0mstack\u001b[0m\u001b[0;34m\u001b[0m\u001b[0m\n",
      "\u001b[0;31mValueError\u001b[0m: cannot reshape array of size 96 into shape (125,1)"
     ]
    }
   ],
   "source": [
    "col_names=list(mx)\n",
    "col_names=np.array(col_names[1:]+test_features).reshape(125,1)\n",
    "stack=np.hstack((col_names, coefs))\n",
    "print stack"
   ]
  },
  {
   "cell_type": "code",
   "execution_count": 17,
   "metadata": {
    "collapsed": false
   },
   "outputs": [
    {
     "data": {
      "text/plain": [
       "array([[u'Fantasy', u'-0.00418292039278'],\n",
       "       [u'story', u'-0.00931031162907'],\n",
       "       [u'friday', u'-0.0380870618072'],\n",
       "       [u'little', u'-0.0524851549185'],\n",
       "       [u'02', u'-0.0561989587698'],\n",
       "       [u'Drama', u'-0.0990424934777'],\n",
       "       [u'ScienceFiction', u'-0.100577207453'],\n",
       "       [u'10', u'-0.10558743907'],\n",
       "       [u'night', u'-0.12205093739'],\n",
       "       [u'street', u'-0.123051365032'],\n",
       "       [u'heart', u'-0.156989870811'],\n",
       "       [u'Western', u'-0.196785658894'],\n",
       "       [u'water', u'-0.218848760334'],\n",
       "       [u'halloween', u'-0.227218239477'],\n",
       "       [u'christmas', u'-0.229047766914'],\n",
       "       [u'your', u'-0.229117310083'],\n",
       "       [u'08', u'-0.2336105163'],\n",
       "       [u'dead', u'-0.281292834875'],\n",
       "       [u'return', u'-0.287541093075'],\n",
       "       [u'09', u'-0.325605602493'],\n",
       "       [u'death', u'-0.346711506818'],\n",
       "       [u'03', u'-0.362726006107'],\n",
       "       [u'Action', u'-0.367460655877'],\n",
       "       [u'Horror', u'-0.371909753977'],\n",
       "       [u'space', u'-0.382798084625'],\n",
       "       [u'04', u'-0.413441809567'],\n",
       "       [u'boys', u'-0.420444318114'],\n",
       "       [u'heaven', u'-0.438848597272'],\n",
       "       [u'meet', u'-0.512960480947'],\n",
       "       [u'legend', u'-0.588710115692'],\n",
       "       [u'blue', u'-0.619316291634'],\n",
       "       [u'01', u'-0.650842688166'],\n",
       "       [u'life', u'-0.654408525991'],\n",
       "       [u'dark', u'-1.07468133022'],\n",
       "       [u'wild', u'-1.4051654451'],\n",
       "       [u'next', u'-1.55507959666'],\n",
       "       [u'War', u'-1.80026895421'],\n",
       "       [u'FALSE', u'-2.04407494973'],\n",
       "       [u'white', u'0.0'],\n",
       "       [u'land', u'0.0'],\n",
       "       [u'hard', u'0.0'],\n",
       "       [u'house', u'0.0'],\n",
       "       [u'hood', u'0.0'],\n",
       "       [u'home', u'0.0'],\n",
       "       [u'high', u'0.0'],\n",
       "       [u'woman', u'0.0'],\n",
       "       [u'harry', u'0.0'],\n",
       "       [u'last', u'0.0'],\n",
       "       [u'like', u'0.0'],\n",
       "       [u'star', u'0.0'],\n",
       "       [u'what', u'0.0'],\n",
       "       [u'time', u'0.0'],\n",
       "       [u'secret', u'0.0'],\n",
       "       [u'rock', u'0.0'],\n",
       "       [u'road', u'0.0'],\n",
       "       [u'train', u'0.0'],\n",
       "       [u'trek', u'0.0'],\n",
       "       [u'great', u'0.0'],\n",
       "       [u'when', u'0.0'],\n",
       "       [u'planet', u'0.0'],\n",
       "       [u'part', u'0.0'],\n",
       "       [u'paris', u'0.0'],\n",
       "       [u'walk', u'0.0'],\n",
       "       [u'never', u'0.0'],\n",
       "       [u'monster', u'0.0'],\n",
       "       [u'this', u'0.0'],\n",
       "       [u'lost', u'0.0'],\n",
       "       [u'perfect', u'0.0'],\n",
       "       [u'good', u'0.0'],\n",
       "       [u'fire', u'0.0'],\n",
       "       [u'ghost', u'0.0'],\n",
       "       [u'Adventure', u'0.0'],\n",
       "       [u'Crime', u'0.0'],\n",
       "       [u'Documentary', u'0.0'],\n",
       "       [u'Foreign', u'0.0'],\n",
       "       [u'History', u'0.0'],\n",
       "       [u'Mystery', u'0.0'],\n",
       "       [u'TVMovie', u'0.0'],\n",
       "       [u'girl', u'0.0'],\n",
       "       [u'baby', u'0.0'],\n",
       "       [u'back', u'0.0'],\n",
       "       [u'battle', u'0.0'],\n",
       "       [u'before', u'0.0'],\n",
       "       [u'best', u'0.0'],\n",
       "       [u'black', u'0.0'],\n",
       "       [u'blood', u'0.0'],\n",
       "       [u'after', u'0.0'],\n",
       "       [u'dawn', u'0.0'],\n",
       "       [u'evil', u'0.0'],\n",
       "       [u'final', u'0.0'],\n",
       "       [u'earth', u'0.0'],\n",
       "       [u'city', u'0.0'],\n",
       "       [u'year', u'0.0'],\n",
       "       [u'from', u'0.0'],\n",
       "       [u'escape', u'0.0'],\n",
       "       [u'down', u'0.0'],\n",
       "       [u'devil', u'0.0'],\n",
       "       [u'days', u'0.0'],\n",
       "       [u'game', u'0.0'],\n",
       "       [u'prince', u'0.0012478540577'],\n",
       "       [u'05', u'0.00512062246905'],\n",
       "       [u'world', u'0.0164520919233'],\n",
       "       [u'runtime', u'0.0184862932425'],\n",
       "       [u'Music', u'0.0300732210972'],\n",
       "       [u'american', u'0.0527631214979'],\n",
       "       [u'11', u'0.060854047643'],\n",
       "       [u'about', u'0.0762601344926'],\n",
       "       [u'Thriller', u'0.111225257869'],\n",
       "       [u'07', u'0.183723083853'],\n",
       "       [u'four', u'0.186070645337'],\n",
       "       [u'movie', u'0.19862401239'],\n",
       "       [u'Comedy', u'0.265058721344'],\n",
       "       [u'king', u'0.287361474103'],\n",
       "       [u'love', u'0.319195235147'],\n",
       "       [u'06', u'0.374026574929'],\n",
       "       [u'Family', u'0.401259603749'],\n",
       "       [u'12', u'0.417430445917'],\n",
       "       [u'kill', u'0.586455979785'],\n",
       "       [u'Romance', u'0.612692589653'],\n",
       "       [u'with', u'0.675149767802'],\n",
       "       [u'dragon', u'0.805016905578'],\n",
       "       [u'wedding', u'0.90339667866'],\n",
       "       [u'Animation', u'1.11412856526'],\n",
       "       [u'budget_adj', u'1.33789462611e-08'],\n",
       "       [u'Franchise', u'1.54591126133']],\n",
       "      dtype='<U32')"
      ]
     },
     "execution_count": 17,
     "metadata": {},
     "output_type": "execute_result"
    }
   ],
   "source": [
    "stack[stack[:,1].argsort()]\n"
   ]
  },
  {
   "cell_type": "code",
   "execution_count": 64,
   "metadata": {
    "collapsed": false
   },
   "outputs": [
    {
     "name": "stdout",
     "output_type": "stream",
     "text": [
      "                                       original_title  is_blockbuster  adult  \\\n",
      "0                                             Jumanji               1  FALSE   \n",
      "1                                   Waiting to Exhale               1  FALSE   \n",
      "3                                                Heat               1  FALSE   \n",
      "4                                        Sudden Death               0  FALSE   \n",
      "5                                           GoldenEye               1  FALSE   \n",
      "6                              The American President               0  FALSE   \n",
      "8                                               Nixon               0  FALSE   \n",
      "9                                    Cutthroat Island               0  FALSE   \n",
      "10                                             Casino               1  FALSE   \n",
      "11                              Sense and Sensibility               1  FALSE   \n",
      "12                                         Four Rooms               0  FALSE   \n",
      "13                     Ace Ventura: When Nature Calls               1  FALSE   \n",
      "14                                        Money Train               0  FALSE   \n",
      "15                                         Get Shorty               1  FALSE   \n",
      "16                                          Assassins               0  FALSE   \n",
      "17                                  Leaving Las Vegas               0  FALSE   \n",
      "18                                       Now and Then               0  FALSE   \n",
      "19                         La Cit̩ des Enfants Perdus               0  FALSE   \n",
      "21                                     Twelve Monkeys               1  FALSE   \n",
      "22                                               Babe               1  FALSE   \n",
      "23                                      Mortal Kombat               1  FALSE   \n",
      "24                                         To Die For               0  FALSE   \n",
      "25                      How To Make An American Quilt               0  FALSE   \n",
      "26                                              Se7en               1  FALSE   \n",
      "27                                         Pocahontas               1  FALSE   \n",
      "28                                 The Usual Suspects               0  FALSE   \n",
      "32                                             Friday               0  FALSE   \n",
      "33                                From Dusk Till Dawn               0  FALSE   \n",
      "34                                          Fair Game               0  FALSE   \n",
      "37                                          Big Bully               0  FALSE   \n",
      "...                                               ...             ...    ...   \n",
      "5895                                        Aftermath               0  FALSE   \n",
      "5897                            _Մ�_�__�� _�_���__�܄�               0  FALSE   \n",
      "5898                                         Baywatch               1  FALSE   \n",
      "5899                                         Snatched               0  FALSE   \n",
      "5900                                        The Mummy               1  FALSE   \n",
      "5901                          The Fate of the Furious               1  FALSE   \n",
      "5902                                           Cars 3               1  FALSE   \n",
      "5903                                The Book of Henry               0  FALSE   \n",
      "5905                                Phoenix Forgotten               0  FALSE   \n",
      "5906                                    Heavy Traffic               0  FALSE   \n",
      "5908                                       Bizim Aile               0  FALSE   \n",
      "5909                                      Tosun Pa��a               0  FALSE   \n",
      "5914  �_��__��� �_Ɉ__�_��_��__�__ �_��__ �_��__�_��__               0  FALSE   \n",
      "5915                                     The Beguiled               0  FALSE   \n",
      "5916                                      Baby Driver               1  FALSE   \n",
      "5917                                      Rough Night               0  FALSE   \n",
      "5922                                  Despicable Me 3               1  FALSE   \n",
      "5923                                         Rock Dog               0  FALSE   \n",
      "5927                         I Was a Teenage Werewolf               0  FALSE   \n",
      "5928                   War for the Planet of the Apes               1  FALSE   \n",
      "5929                                           Kidnap               0  FALSE   \n",
      "5930                                _�_���_�_Ȅ�____�_               0  FALSE   \n",
      "5931                                            Fanaa               0  FALSE   \n",
      "5932                                          Dunkirk               1  FALSE   \n",
      "5933                                          Gymkata               0  FALSE   \n",
      "5936                             Pok̩mon 3: The Movie               0  FALSE   \n",
      "5937                    Transformers: The Last Knight               1  FALSE   \n",
      "5938                                   The Dark Tower               0  FALSE   \n",
      "5939                                  The Emoji Movie               0  FALSE   \n",
      "5940                                       Wind River               1  FALSE   \n",
      "\n",
      "      Franchise    budget_adj           genre  runtime release_month  \n",
      "0             0  1.044501e+08       Adventure    104.0            12  \n",
      "1             0  2.571080e+07          Comedy    127.0            12  \n",
      "3             0  9.641550e+07          Action    170.0            12  \n",
      "4             0  5.624238e+07          Action    106.0            12  \n",
      "5             1  9.314098e+07       Adventure    130.0            11  \n",
      "6             0  9.956449e+07          Comedy    106.0            11  \n",
      "8             0  7.070470e+07         History    192.0            12  \n",
      "9             0  1.574787e+08          Action    119.0            12  \n",
      "10            0  8.350570e+07           Drama    178.0            11  \n",
      "11            0  2.651426e+07           Drama    136.0            12  \n",
      "12            0  6.427700e+06           Crime     98.0            12  \n",
      "13            1  4.817637e+07           Crime     90.0            11  \n",
      "14            0  9.635273e+07          Action    103.0            11  \n",
      "15            1  4.854623e+07          Comedy    105.0            10  \n",
      "16            0  8.024170e+07          Action    132.0            10  \n",
      "17            0  5.777403e+06           Drama    112.0            10  \n",
      "18            0  1.925801e+07          Comedy    100.0            10  \n",
      "19            0  2.917171e+07         Fantasy    108.0            05  \n",
      "21            0  4.740429e+07  ScienceFiction    129.0            12  \n",
      "22            1  4.852387e+07         Fantasy     89.0            07  \n",
      "23            1  2.903816e+07          Action    101.0            08  \n",
      "24            0  3.241301e+07         Fantasy    106.0            05  \n",
      "25            0  1.604834e+07           Drama    116.0            10  \n",
      "26            0  5.313237e+07           Crime    127.0            09  \n",
      "27            1  8.896043e+07       Adventure     81.0            06  \n",
      "28            0  9.704774e+06           Drama    106.0            07  \n",
      "32            1  5.683479e+06          Comedy     91.0            04  \n",
      "33            1  3.035361e+07          Horror    108.0            01  \n",
      "34            0  8.029395e+07          Action     91.0            11  \n",
      "37            0  2.396337e+07          Comedy     90.0            01  \n",
      "...         ...           ...             ...      ...           ...  \n",
      "5895          0  1.059185e+07           Drama     92.0            04  \n",
      "5897          0  7.136928e+06       Adventure    140.0            04  \n",
      "5898          0  6.954414e+07          Action    116.0            05  \n",
      "5899          0  4.233122e+07          Action     90.0            05  \n",
      "5900          0  1.258716e+08        Thriller    110.0            06  \n",
      "5901          1  2.521869e+08          Action    136.0            04  \n",
      "5902          1  1.762202e+08          Family    109.0            06  \n",
      "5903          0  1.006973e+07        Thriller    105.0            06  \n",
      "5905          0  2.824493e+06          Horror     80.0            04  \n",
      "5906          0  5.195784e+06       Animation     76.0            08  \n",
      "5908          0  2.968088e+05          Comedy     88.0            09  \n",
      "5909          0  2.848159e+05          Comedy     94.0            01  \n",
      "5914          0  8.951968e+06           Drama    193.0            08  \n",
      "5915          0  1.057321e+07           Drama     93.0            06  \n",
      "5916          0  3.423707e+07          Action    113.0            06  \n",
      "5917          0  2.013945e+07           Drama    101.0            06  \n",
      "5922          1  8.055782e+07          Action     96.0            06  \n",
      "5923          0  6.149996e+07       Adventure     90.0            07  \n",
      "5927          0  7.197995e+05           Drama     76.0            06  \n",
      "5928          1  1.531655e+08           Drama    140.0            07  \n",
      "5929          0  2.109785e+07           Drama     95.0            08  \n",
      "5930          0  1.050873e+07             War    120.0            02  \n",
      "5931          0  6.455871e+06          Action    168.0            05  \n",
      "5932          0  1.007668e+08          Action    107.0            07  \n",
      "5933          0  1.953994e+07          Action     90.0            05  \n",
      "5936          1  2.283917e+07       Adventure     93.0            07  \n",
      "5937          1  2.618129e+08          Action    149.0            06  \n",
      "5938          0  6.027957e+07          Action     95.0            08  \n",
      "5939          0  5.038340e+07          Comedy     86.0            07  \n",
      "5940          0  1.105125e+07          Action    111.0            08  \n",
      "\n",
      "[4625 rows x 8 columns]\n"
     ]
    }
   ],
   "source": [
    "mo=mb_df[['original_title','is_blockbuster','adult', 'Franchise', 'budget_adj', 'genre','runtime', 'release_month']]\n",
    "#print mo.head()\n",
    "\n",
    "print mo.reindex()\n"
   ]
  },
  {
   "cell_type": "code",
   "execution_count": 79,
   "metadata": {
    "collapsed": false
   },
   "outputs": [
    {
     "name": "stdout",
     "output_type": "stream",
     "text": [
      "182.0\n",
      "231.0\n",
      "[ 0.59593585  0.40406415]\n",
      "[-0.51762225 -0.90618163]\n"
     ]
    }
   ],
   "source": [
    "probs=lr1.predict_proba(train_data)\n",
    "log_probs=lr1.predict_log_proba(train_data)\n",
    "preds=lr1.predict(test_data)\n",
    "print sum(preds)\n",
    "print sum(test_labels)\n",
    "\n",
    "\n",
    "print probs[0]\n",
    "print log_probs[0]"
   ]
  },
  {
   "cell_type": "code",
   "execution_count": 68,
   "metadata": {
    "collapsed": false
   },
   "outputs": [
    {
     "name": "stdout",
     "output_type": "stream",
     "text": [
      "     title  is_blockbuster  adult  Franchise    budget_adj      genre  \\\n",
      "0  jumanji               1  FALSE          0  1.044501e+08  Adventure   \n",
      "\n",
      "   runtime release_month  \n",
      "0    104.0            12  \n"
     ]
    }
   ],
   "source": [
    "print mx.head(1)"
   ]
  },
  {
   "cell_type": "code",
   "execution_count": 81,
   "metadata": {
    "collapsed": false
   },
   "outputs": [
    {
     "name": "stdout",
     "output_type": "stream",
     "text": [
      "1125\n"
     ]
    }
   ],
   "source": [
    "print len(test_labels)"
   ]
  },
  {
   "cell_type": "code",
   "execution_count": null,
   "metadata": {
    "collapsed": false
   },
   "outputs": [],
   "source": []
  },
  {
   "cell_type": "code",
   "execution_count": null,
   "metadata": {
    "collapsed": false
   },
   "outputs": [],
   "source": []
  },
  {
   "cell_type": "code",
   "execution_count": null,
   "metadata": {
    "collapsed": false
   },
   "outputs": [],
   "source": []
  },
  {
   "cell_type": "code",
   "execution_count": null,
   "metadata": {
    "collapsed": false
   },
   "outputs": [],
   "source": []
  },
  {
   "cell_type": "code",
   "execution_count": null,
   "metadata": {
    "collapsed": true
   },
   "outputs": [],
   "source": []
  }
 ],
 "metadata": {
  "anaconda-cloud": {},
  "kernelspec": {
   "display_name": "Python [conda root]",
   "language": "python",
   "name": "conda-root-py"
  },
  "language_info": {
   "codemirror_mode": {
    "name": "ipython",
    "version": 2
   },
   "file_extension": ".py",
   "mimetype": "text/x-python",
   "name": "python",
   "nbconvert_exporter": "python",
   "pygments_lexer": "ipython2",
   "version": "2.7.12"
  }
 },
 "nbformat": 4,
 "nbformat_minor": 1
}
